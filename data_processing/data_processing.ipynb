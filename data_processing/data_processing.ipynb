{
 "cells": [
  {
   "cell_type": "code",
   "execution_count": 1,
   "metadata": {},
   "outputs": [],
   "source": [
    "import os\n",
    "from PIL import Image, ImageOps"
   ]
  },
  {
   "cell_type": "code",
   "execution_count": 5,
   "metadata": {},
   "outputs": [],
   "source": [
    "def pad_image(image_path, base_size=224, fill_color=(255, 255, 255)):  # Changed default fill_color to white for RGB\n",
    "    with Image.open(image_path) as img:\n",
    "        # Convert palette-based images to RGB\n",
    "        if img.mode != 'RGB':\n",
    "            img = img.convert('RGB')\n",
    "\n",
    "        # Calculate padding amounts\n",
    "        width_pad = (base_size - img.size[0]) // 2\n",
    "        height_pad = (base_size - img.size[1]) // 2\n",
    "        padding = (width_pad, height_pad, base_size - img.size[0] - width_pad, base_size - img.size[1] - height_pad)\n",
    "        \n",
    "        # Pad the image\n",
    "        new_img = ImageOps.expand(img, padding, fill_color)\n",
    "        return new_img\n",
    "\n",
    "def preprocess_dataset(directory, output_directory):\n",
    "    for subdir, dirs, files in os.walk(directory):\n",
    "        for file in files:\n",
    "            filepath = os.path.join(subdir, file)\n",
    "            padded_img = pad_image(filepath)\n",
    "            # Define a new path to save the padded images\n",
    "            new_subdir = subdir.replace(directory, output_directory)  # Preserve the subdirectory structure\n",
    "            os.makedirs(new_subdir, exist_ok=True)\n",
    "            padded_img.save(os.path.join(new_subdir, file))"
   ]
  },
  {
   "cell_type": "code",
   "execution_count": 6,
   "metadata": {},
   "outputs": [],
   "source": [
    "input_directory = 'dataset'  \n",
    "output_directory = 'proccesed_dataset'  \n",
    "\n",
    "preprocess_dataset(input_directory, output_directory)"
   ]
  }
 ],
 "metadata": {
  "kernelspec": {
   "display_name": "trash_app",
   "language": "python",
   "name": "python3"
  },
  "language_info": {
   "codemirror_mode": {
    "name": "ipython",
    "version": 3
   },
   "file_extension": ".py",
   "mimetype": "text/x-python",
   "name": "python",
   "nbconvert_exporter": "python",
   "pygments_lexer": "ipython3",
   "version": "3.8.18"
  }
 },
 "nbformat": 4,
 "nbformat_minor": 2
}
